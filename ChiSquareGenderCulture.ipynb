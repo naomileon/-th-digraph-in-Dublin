{
  "nbformat": 4,
  "nbformat_minor": 0,
  "metadata": {
    "colab": {
      "provenance": [],
      "authorship_tag": "ABX9TyMTuOvS46AJKcupglvfWRnz",
      "include_colab_link": true
    },
    "kernelspec": {
      "name": "python3",
      "display_name": "Python 3"
    },
    "language_info": {
      "name": "python"
    }
  },
  "cells": [
    {
      "cell_type": "markdown",
      "metadata": {
        "id": "view-in-github",
        "colab_type": "text"
      },
      "source": [
        "<a href=\"https://colab.research.google.com/github/naomileon/-th-digraph-in-Dublin/blob/main/ChiSquareGenderCulture.ipynb\" target=\"_parent\"><img src=\"https://colab.research.google.com/assets/colab-badge.svg\" alt=\"Open In Colab\"/></a>"
      ]
    },
    {
      "cell_type": "code",
      "execution_count": 2,
      "metadata": {
        "colab": {
          "base_uri": "https://localhost:8080/"
        },
        "id": "OWiJkcvzbY3J",
        "outputId": "a28377ac-07fa-45dc-e90c-6cf0461971a4"
      },
      "outputs": [
        {
          "output_type": "stream",
          "name": "stdout",
          "text": [
            "\n",
            "Results for Task 1:\n",
            "Chi² = 28.941\n",
            "p-value = 0.0001\n",
            "Degree of Freedom = 6\n",
            "Expected frequences =\n",
            " [[72.88 51.34 12.77]\n",
            " [72.88 51.34 12.77]\n",
            " [72.35 50.97 12.68]\n",
            " [72.88 51.34 12.77]]\n",
            "=> There is a significant correlation between the group culture+gender and pronunciation..\n",
            "\n",
            "Results for Task 2:\n",
            "Chi² = 20.26\n",
            "p-value = 0.0025\n",
            "Degree of Freedom = 6\n",
            "Expected frequences =\n",
            " [[30.88 36.18  2.94]\n",
            " [25.59 29.97  2.44]\n",
            " [26.91 31.53  2.56]\n",
            " [21.62 25.32  2.06]]\n",
            "=> There is a significant correlation between the group culture+gender and pronunciation..\n",
            "\n",
            "Results for All Tasks:\n",
            "Chi² = 41.733\n",
            "p-value = 0.0\n",
            "Degree of Freedom = 6\n",
            "Expected frequences =\n",
            " [[104.42  86.49  16.09]\n",
            " [ 98.37  81.48  15.15]\n",
            " [ 99.38  82.31  15.31]\n",
            " [ 93.83  77.72  14.45]]\n",
            "=> There is a significant correlation between the group culture+gender and pronunciation..\n",
            "\n",
            "Results for Women : Close vs Far:\n",
            "Chi² = 33.599\n",
            "p-value = 0.0\n",
            "Degree of Freedom = 2\n",
            "Expected frequences =\n",
            " [[102.99  91.72  12.3 ]\n",
            " [ 98.01  87.28  11.7 ]]\n",
            "=> There is a significant correlation between the group culture+gender and pronunciation..\n",
            "\n",
            "Results for Men : Close vs Far:\n",
            "Chi² = 2.595\n",
            "p-value = 0.2732\n",
            "Degree of Freedom = 2\n",
            "Expected frequences =\n",
            " [[99.8  76.26 18.94]\n",
            " [95.2  72.74 18.06]]\n",
            "=> No significant correlation detected between the group culture+gender and pronunciation.\n"
          ]
        }
      ],
      "source": [
        "import numpy as np\n",
        "from scipy.stats import chi2_contingency\n",
        "\n",
        "task1 = np.array([\n",
        "    [90, 38, 9],   # Femme Proche\n",
        "    [71, 48, 18],  # Homme Proche\n",
        "    [50, 73, 13],  # Femme Éloignée\n",
        "    [80, 46, 11]   # Homme Éloigné\n",
        "])\n",
        "\n",
        "task2 = np.array([\n",
        "    [42, 27, 1],   # Femme Proche\n",
        "    [21, 34, 3],   # Homme Proche\n",
        "    [19, 41, 1],   # Femme Éloignée\n",
        "    [23, 21, 5]    # Homme Éloigné\n",
        "])\n",
        "\n",
        "combined = task1 + task2\n",
        "\n",
        "F_close = combined[0]\n",
        "F_far = combined[2]\n",
        "M_close = combined[1]\n",
        "M_far = combined[3]\n",
        "\n",
        "def test_chi2(table, task_name):\n",
        "    chi2, p, dof, expected = chi2_contingency(table)\n",
        "    print(f\"\\nResults for {task_name}:\")\n",
        "    print(\"Chi² =\", round(chi2, 3))\n",
        "    print(\"p-value =\", round(p, 4))\n",
        "    print(\"Degree of Freedom =\", dof)\n",
        "    print(\"Expected frequences =\\n\", np.round(expected, 2))\n",
        "    if p < 0.05:\n",
        "        print(\"=> There is a significant correlation between the group culture+gender and pronunciation..\")\n",
        "    else:\n",
        "        print(\"=> No significant correlation detected between the group culture+gender and pronunciation.\")\n",
        "\n",
        "\n",
        "test_chi2(task1, \"Task 1\")\n",
        "test_chi2(task2, \"Task 2\")\n",
        "test_chi2(combined, \"All Tasks\")\n",
        "\n",
        "test_chi2(np.array([F_close, F_far]), \"Women : Close vs Far\")\n",
        "test_chi2(np.array([M_close, M_far]), \"Men : Close vs Far\")\n"
      ]
    }
  ]
}