{
  "nbformat": 4,
  "nbformat_minor": 0,
  "metadata": {
    "colab": {
      "provenance": [],
      "authorship_tag": "ABX9TyMv1Qc1fzDSYPat9PgM7YF6",
      "include_colab_link": true
    },
    "kernelspec": {
      "name": "python3",
      "display_name": "Python 3"
    },
    "language_info": {
      "name": "python"
    }
  },
  "cells": [
    {
      "cell_type": "markdown",
      "metadata": {
        "id": "view-in-github",
        "colab_type": "text"
      },
      "source": [
        "<a href=\"https://colab.research.google.com/github/naomileon/-th-digraph-in-Dublin/blob/main/ChiSquareCulture.ipynb\" target=\"_parent\"><img src=\"https://colab.research.google.com/assets/colab-badge.svg\" alt=\"Open In Colab\"/></a>"
      ]
    },
    {
      "cell_type": "code",
      "execution_count": 2,
      "metadata": {
        "colab": {
          "base_uri": "https://localhost:8080/"
        },
        "id": "THvcOXyuMOVG",
        "outputId": "278ceff3-23df-4fb1-dc7b-315cd2a28b2b"
      },
      "outputs": [
        {
          "output_type": "stream",
          "name": "stdout",
          "text": [
            "\n",
            "Results for Task 1:\n",
            "Chi² = 8.78927242993032\n",
            "p-value = 0.012343369841999564\n",
            "Degree of Freedom = 2\n",
            "Expected frequences =\n",
            " [[145.76599634 102.68738574  25.54661792]\n",
            " [145.23400366 102.31261426  25.45338208]]\n",
            "=> There is a significant correlation between culture and pronunciation.\n",
            "\n",
            "Results for Task 2:\n",
            "Chi² = 3.2654637841832983\n",
            "p-value = 0.19539504614166198\n",
            "Degree of Freedom = 2\n",
            "Expected frequences =\n",
            " [[56.47058824 66.1512605   5.37815126]\n",
            " [48.52941176 56.8487395   4.62184874]]\n",
            "=> No significant correlation detected between culture and pronunciation.\n",
            "\n",
            "Results for All Tasks:\n",
            "Chi² = 9.915002359429502\n",
            "p-value = 0.007030473791882085\n",
            "Degree of Freedom = 2\n",
            "Expected frequences =\n",
            " [[202.79235669 167.96942675  31.23821656]\n",
            " [193.20764331 160.03057325  29.76178344]]\n",
            "=> There is a significant correlation between culture and pronunciation.\n"
          ]
        }
      ],
      "source": [
        "import numpy as np\n",
        "from scipy.stats import chi2_contingency\n",
        "\n",
        "# Données Task 1 : lignes = Proche, Éloigné ; colonnes = FR, OCC, ?\n",
        "task1 = np.array([\n",
        "    [161, 86, 27],\n",
        "    [130, 119, 24]\n",
        "])\n",
        "\n",
        "# Données Task 2 (de même pour les lignes et colonnes)\n",
        "task2 = np.array([\n",
        "    [63, 61, 4],\n",
        "    [42, 62, 6]\n",
        "])\n",
        "\n",
        "# Pour avoir une vue plus générale\n",
        "combined = task1 + task2\n",
        "\n",
        "def test_chi2(table, task_name):\n",
        "    chi2, p, dof, expected = chi2_contingency(table)\n",
        "    print(f\"\\nResults for {task_name}:\")\n",
        "    print(\"Chi² =\", chi2)\n",
        "    print(\"p-value =\", p)\n",
        "    print(\"Degree of Freedom =\", dof)\n",
        "    print(\"Expected frequences =\\n\", expected)\n",
        "    if p < 0.05:\n",
        "        print(\"=> There is a significant correlation between culture and pronunciation.\")\n",
        "    else:\n",
        "        print(\"=> No significant correlation detected between culture and pronunciation.\")\n",
        "\n",
        "# Exécution des tests\n",
        "test_chi2(task1, \"Task 1\")\n",
        "test_chi2(task2, \"Task 2\")\n",
        "test_chi2(combined, \"All Tasks\")\n"
      ]
    }
  ]
}