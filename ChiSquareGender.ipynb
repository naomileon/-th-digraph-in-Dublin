{
  "nbformat": 4,
  "nbformat_minor": 0,
  "metadata": {
    "colab": {
      "provenance": [],
      "authorship_tag": "ABX9TyO8V4bwOzT0Zsd6cF3P6BTK",
      "include_colab_link": true
    },
    "kernelspec": {
      "name": "python3",
      "display_name": "Python 3"
    },
    "language_info": {
      "name": "python"
    }
  },
  "cells": [
    {
      "cell_type": "markdown",
      "metadata": {
        "id": "view-in-github",
        "colab_type": "text"
      },
      "source": [
        "<a href=\"https://colab.research.google.com/github/naomileon/-th-digraph-in-Dublin/blob/main/ChiSquareGender.ipynb\" target=\"_parent\"><img src=\"https://colab.research.google.com/assets/colab-badge.svg\" alt=\"Open In Colab\"/></a>"
      ]
    },
    {
      "cell_type": "code",
      "execution_count": 4,
      "metadata": {
        "colab": {
          "base_uri": "https://localhost:8080/"
        },
        "id": "pcW6IAS9yEOn",
        "outputId": "7f17e2f2-f6eb-4cc4-f436-eb508e5ee452"
      },
      "outputs": [
        {
          "output_type": "stream",
          "name": "stdout",
          "text": [
            "\n",
            "Results for Task 1:\n",
            "Chi² = 2.784529124160384\n",
            "p-value = 0.24851189631901177\n",
            "Degree of freedom = 2\n",
            "Expected frequencies =\n",
            " [[145.23400366 102.31261426  25.45338208]\n",
            " [145.76599634 102.68738574  25.54661792]]\n",
            "=> No significant correlation detected between gender and pronunciation.\n",
            "\n",
            "Results for Task 2:\n",
            "Chi² = 5.36070845448413\n",
            "p-value = 0.06853887151831407\n",
            "Degree of freedom = 2\n",
            "Expected frequencies =\n",
            " [[57.79411765 67.70168067  5.50420168]\n",
            " [47.20588235 55.29831933  4.49579832]]\n",
            "=> No significant correlation detected between gender and pronunciation.\n",
            "\n",
            "Results for All Tasks:\n",
            "Chi² = 4.935655009141964\n",
            "p-value = 0.08476881897485676\n",
            "Degree of freedom = 2\n",
            "Expected frequencies =\n",
            " [[203.80127389 168.80509554  31.39363057]\n",
            " [192.19872611 159.19490446  29.60636943]]\n",
            "=> No significant correlation detected between gender and pronunciation.\n"
          ]
        }
      ],
      "source": [
        "import numpy as np\n",
        "from scipy.stats import chi2_contingency\n",
        "\n",
        "# Données Task 1\n",
        "# Lignes : Women, Men ; Colonnes : FR, OCC, ?\n",
        "task1 = np.array([\n",
        "    [140, 111, 22],\n",
        "    [151,  94, 29]\n",
        "])\n",
        "\n",
        "# Données Task 2\n",
        "task2 = np.array([\n",
        "    [61, 68, 2],\n",
        "    [44, 55, 8]\n",
        "])\n",
        "\n",
        "combined = task1 + task2\n",
        "\n",
        "def test_chi2(table, task_name):\n",
        "    chi2, p, dof, expected = chi2_contingency(table)\n",
        "    print(f\"\\nResults for {task_name}:\")\n",
        "    print(\"Chi² =\", chi2)\n",
        "    print(\"p-value =\", p)\n",
        "    print(\"Degree of freedom =\", dof)\n",
        "    print(\"Expected frequencies =\\n\", expected)\n",
        "    if p < 0.05:\n",
        "        print(\"=> There is a significant correlation between gender and pronunciation.\")\n",
        "    else:\n",
        "        print(\"=> No significant correlation detected between gender and pronunciation.\")\n",
        "\n",
        "test_chi2(task1, \"Task 1\")\n",
        "test_chi2(task2, \"Task 2\")\n",
        "test_chi2(combined, \"All Tasks\")"
      ]
    }
  ]
}